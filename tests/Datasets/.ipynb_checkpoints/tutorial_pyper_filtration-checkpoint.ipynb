{
 "cells": [
  {
   "cell_type": "markdown",
   "metadata": {},
   "source": [
    "# Tutorial: Using a custom filtration with pyper\n",
    "\n",
    "This tutorial shows how to add attributes to a graph in order to define a filtration, and how this can be used to compute a persistence diagram with pyper."
   ]
  },
  {
   "cell_type": "code",
   "execution_count": 8,
   "metadata": {},
   "outputs": [],
   "source": [
    "import igraph as ig\n",
    "import matplotlib.pyplot as plt\n",
    "from pyper.persistent_homology import calculate_persistence_diagrams"
   ]
  },
  {
   "cell_type": "code",
   "execution_count": 28,
   "metadata": {},
   "outputs": [
    {
     "data": {
      "image/svg+xml": [
       "<?xml version=\"1.0\" encoding=\"UTF-8\"?>\n",
       "<svg xmlns=\"http://www.w3.org/2000/svg\" xmlns:xlink=\"http://www.w3.org/1999/xlink\" width=\"200pt\" height=\"200pt\" viewBox=\"0 0 200 200\" version=\"1.1\">\n",
       "<g id=\"surface66\">\n",
       "<rect x=\"0\" y=\"0\" width=\"200\" height=\"200\" style=\"fill:rgb(100%,100%,100%);fill-opacity:1;stroke:none;\"/>\n",
       "<path style=\"fill:none;stroke-width:1;stroke-linecap:butt;stroke-linejoin:miter;stroke:rgb(26.666667%,26.666667%,26.666667%);stroke-opacity:1;stroke-miterlimit:10;\" d=\"M 180 165.578125 L 137.449219 157.210938 \"/>\n",
       "<path style=\"fill:none;stroke-width:1;stroke-linecap:butt;stroke-linejoin:miter;stroke:rgb(26.666667%,26.666667%,26.666667%);stroke-opacity:1;stroke-miterlimit:10;\" d=\"M 118.90625 180 L 137.449219 157.210938 \"/>\n",
       "<path style=\"fill:none;stroke-width:1;stroke-linecap:butt;stroke-linejoin:miter;stroke:rgb(26.666667%,26.666667%,26.666667%);stroke-opacity:1;stroke-miterlimit:10;\" d=\"M 137.449219 157.210938 L 119.503906 133.917969 \"/>\n",
       "<path style=\"fill:none;stroke-width:1;stroke-linecap:butt;stroke-linejoin:miter;stroke:rgb(26.666667%,26.666667%,26.666667%);stroke-opacity:1;stroke-miterlimit:10;\" d=\"M 119.503906 133.917969 L 74.671875 125.949219 \"/>\n",
       "<path style=\"fill:none;stroke-width:1;stroke-linecap:butt;stroke-linejoin:miter;stroke:rgb(26.666667%,26.666667%,26.666667%);stroke-opacity:1;stroke-miterlimit:10;\" d=\"M 74.671875 125.949219 L 56.625 102.738281 \"/>\n",
       "<path style=\"fill:none;stroke-width:1;stroke-linecap:butt;stroke-linejoin:miter;stroke:rgb(26.666667%,26.666667%,26.666667%);stroke-opacity:1;stroke-miterlimit:10;\" d=\"M 56.625 102.738281 L 77.457031 79.347656 \"/>\n",
       "<path style=\"fill:none;stroke-width:1;stroke-linecap:butt;stroke-linejoin:miter;stroke:rgb(26.666667%,26.666667%,26.666667%);stroke-opacity:1;stroke-miterlimit:10;\" d=\"M 77.457031 79.347656 L 122.375 87.214844 \"/>\n",
       "<path style=\"fill:none;stroke-width:1;stroke-linecap:butt;stroke-linejoin:miter;stroke:rgb(26.666667%,26.666667%,26.666667%);stroke-opacity:1;stroke-miterlimit:10;\" d=\"M 122.375 87.214844 L 140.148438 110.496094 \"/>\n",
       "<path style=\"fill:none;stroke-width:1;stroke-linecap:butt;stroke-linejoin:miter;stroke:rgb(26.666667%,26.666667%,26.666667%);stroke-opacity:1;stroke-miterlimit:10;\" d=\"M 119.503906 133.917969 L 140.148438 110.496094 \"/>\n",
       "<path style=\"fill:none;stroke-width:1;stroke-linecap:butt;stroke-linejoin:miter;stroke:rgb(26.666667%,26.666667%,26.666667%);stroke-opacity:1;stroke-miterlimit:10;\" d=\"M 77.457031 79.347656 L 59.707031 56.308594 \"/>\n",
       "<path style=\"fill:none;stroke-width:1;stroke-linecap:butt;stroke-linejoin:miter;stroke:rgb(26.666667%,26.666667%,26.666667%);stroke-opacity:1;stroke-miterlimit:10;\" d=\"M 59.707031 56.308594 L 20 43.96875 \"/>\n",
       "<path style=\"fill:none;stroke-width:1;stroke-linecap:butt;stroke-linejoin:miter;stroke:rgb(26.666667%,26.666667%,26.666667%);stroke-opacity:1;stroke-miterlimit:10;\" d=\"M 20 43.96875 L 31.730469 20 \"/>\n",
       "<path style=\"fill:none;stroke-width:1;stroke-linecap:butt;stroke-linejoin:miter;stroke:rgb(26.666667%,26.666667%,26.666667%);stroke-opacity:1;stroke-miterlimit:10;\" d=\"M 31.730469 20 L 71.101562 31.902344 \"/>\n",
       "<path style=\"fill:none;stroke-width:1;stroke-linecap:butt;stroke-linejoin:miter;stroke:rgb(26.666667%,26.666667%,26.666667%);stroke-opacity:1;stroke-miterlimit:10;\" d=\"M 59.707031 56.308594 L 71.101562 31.902344 \"/>\n",
       "<path style=\"fill-rule:nonzero;fill:rgb(100%,0%,0%);fill-opacity:1;stroke-width:1;stroke-linecap:butt;stroke-linejoin:miter;stroke:rgb(0%,0%,0%);stroke-opacity:1;stroke-miterlimit:10;\" d=\"M 190 165.578125 C 190 171.101562 185.523438 175.578125 180 175.578125 C 174.476562 175.578125 170 171.101562 170 165.578125 C 170 160.054688 174.476562 155.578125 180 155.578125 C 185.523438 155.578125 190 160.054688 190 165.578125 \"/>\n",
       "<path style=\"fill-rule:nonzero;fill:rgb(100%,0%,0%);fill-opacity:1;stroke-width:1;stroke-linecap:butt;stroke-linejoin:miter;stroke:rgb(0%,0%,0%);stroke-opacity:1;stroke-miterlimit:10;\" d=\"M 128.90625 180 C 128.90625 185.523438 124.425781 190 118.90625 190 C 113.382812 190 108.90625 185.523438 108.90625 180 C 108.90625 174.476562 113.382812 170 118.90625 170 C 124.425781 170 128.90625 174.476562 128.90625 180 \"/>\n",
       "<path style=\"fill-rule:nonzero;fill:rgb(100%,0%,0%);fill-opacity:1;stroke-width:1;stroke-linecap:butt;stroke-linejoin:miter;stroke:rgb(0%,0%,0%);stroke-opacity:1;stroke-miterlimit:10;\" d=\"M 147.449219 157.210938 C 147.449219 162.734375 142.972656 167.210938 137.449219 167.210938 C 131.925781 167.210938 127.449219 162.734375 127.449219 157.210938 C 127.449219 151.6875 131.925781 147.210938 137.449219 147.210938 C 142.972656 147.210938 147.449219 151.6875 147.449219 157.210938 \"/>\n",
       "<path style=\"fill-rule:nonzero;fill:rgb(100%,0%,0%);fill-opacity:1;stroke-width:1;stroke-linecap:butt;stroke-linejoin:miter;stroke:rgb(0%,0%,0%);stroke-opacity:1;stroke-miterlimit:10;\" d=\"M 129.503906 133.917969 C 129.503906 139.441406 125.027344 143.917969 119.503906 143.917969 C 113.980469 143.917969 109.503906 139.441406 109.503906 133.917969 C 109.503906 128.394531 113.980469 123.917969 119.503906 123.917969 C 125.027344 123.917969 129.503906 128.394531 129.503906 133.917969 \"/>\n",
       "<path style=\"fill-rule:nonzero;fill:rgb(100%,0%,0%);fill-opacity:1;stroke-width:1;stroke-linecap:butt;stroke-linejoin:miter;stroke:rgb(0%,0%,0%);stroke-opacity:1;stroke-miterlimit:10;\" d=\"M 84.671875 125.949219 C 84.671875 131.472656 80.195312 135.949219 74.671875 135.949219 C 69.148438 135.949219 64.671875 131.472656 64.671875 125.949219 C 64.671875 120.429688 69.148438 115.949219 74.671875 115.949219 C 80.195312 115.949219 84.671875 120.429688 84.671875 125.949219 \"/>\n",
       "<path style=\"fill-rule:nonzero;fill:rgb(100%,0%,0%);fill-opacity:1;stroke-width:1;stroke-linecap:butt;stroke-linejoin:miter;stroke:rgb(0%,0%,0%);stroke-opacity:1;stroke-miterlimit:10;\" d=\"M 66.625 102.738281 C 66.625 108.261719 62.148438 112.738281 56.625 112.738281 C 51.101562 112.738281 46.625 108.261719 46.625 102.738281 C 46.625 97.214844 51.101562 92.738281 56.625 92.738281 C 62.148438 92.738281 66.625 97.214844 66.625 102.738281 \"/>\n",
       "<path style=\"fill-rule:nonzero;fill:rgb(100%,0%,0%);fill-opacity:1;stroke-width:1;stroke-linecap:butt;stroke-linejoin:miter;stroke:rgb(0%,0%,0%);stroke-opacity:1;stroke-miterlimit:10;\" d=\"M 87.457031 79.347656 C 87.457031 84.867188 82.980469 89.347656 77.457031 89.347656 C 71.933594 89.347656 67.457031 84.867188 67.457031 79.347656 C 67.457031 73.824219 71.933594 69.347656 77.457031 69.347656 C 82.980469 69.347656 87.457031 73.824219 87.457031 79.347656 \"/>\n",
       "<path style=\"fill-rule:nonzero;fill:rgb(100%,0%,0%);fill-opacity:1;stroke-width:1;stroke-linecap:butt;stroke-linejoin:miter;stroke:rgb(0%,0%,0%);stroke-opacity:1;stroke-miterlimit:10;\" d=\"M 132.375 87.214844 C 132.375 92.738281 127.898438 97.214844 122.375 97.214844 C 116.851562 97.214844 112.375 92.738281 112.375 87.214844 C 112.375 81.695312 116.851562 77.214844 122.375 77.214844 C 127.898438 77.214844 132.375 81.695312 132.375 87.214844 \"/>\n",
       "<path style=\"fill-rule:nonzero;fill:rgb(100%,0%,0%);fill-opacity:1;stroke-width:1;stroke-linecap:butt;stroke-linejoin:miter;stroke:rgb(0%,0%,0%);stroke-opacity:1;stroke-miterlimit:10;\" d=\"M 150.148438 110.496094 C 150.148438 116.015625 145.671875 120.496094 140.148438 120.496094 C 134.625 120.496094 130.148438 116.015625 130.148438 110.496094 C 130.148438 104.972656 134.625 100.496094 140.148438 100.496094 C 145.671875 100.496094 150.148438 104.972656 150.148438 110.496094 \"/>\n",
       "<path style=\"fill-rule:nonzero;fill:rgb(100%,0%,0%);fill-opacity:1;stroke-width:1;stroke-linecap:butt;stroke-linejoin:miter;stroke:rgb(0%,0%,0%);stroke-opacity:1;stroke-miterlimit:10;\" d=\"M 69.707031 56.308594 C 69.707031 61.832031 65.230469 66.308594 59.707031 66.308594 C 54.183594 66.308594 49.707031 61.832031 49.707031 56.308594 C 49.707031 50.785156 54.183594 46.308594 59.707031 46.308594 C 65.230469 46.308594 69.707031 50.785156 69.707031 56.308594 \"/>\n",
       "<path style=\"fill-rule:nonzero;fill:rgb(100%,0%,0%);fill-opacity:1;stroke-width:1;stroke-linecap:butt;stroke-linejoin:miter;stroke:rgb(0%,0%,0%);stroke-opacity:1;stroke-miterlimit:10;\" d=\"M 30 43.96875 C 30 49.488281 25.523438 53.96875 20 53.96875 C 14.476562 53.96875 10 49.488281 10 43.96875 C 10 38.445312 14.476562 33.96875 20 33.96875 C 25.523438 33.96875 30 38.445312 30 43.96875 \"/>\n",
       "<path style=\"fill-rule:nonzero;fill:rgb(100%,0%,0%);fill-opacity:1;stroke-width:1;stroke-linecap:butt;stroke-linejoin:miter;stroke:rgb(0%,0%,0%);stroke-opacity:1;stroke-miterlimit:10;\" d=\"M 41.730469 20 C 41.730469 25.523438 37.253906 30 31.730469 30 C 26.207031 30 21.730469 25.523438 21.730469 20 C 21.730469 14.476562 26.207031 10 31.730469 10 C 37.253906 10 41.730469 14.476562 41.730469 20 \"/>\n",
       "<path style=\"fill-rule:nonzero;fill:rgb(100%,0%,0%);fill-opacity:1;stroke-width:1;stroke-linecap:butt;stroke-linejoin:miter;stroke:rgb(0%,0%,0%);stroke-opacity:1;stroke-miterlimit:10;\" d=\"M 81.101562 31.902344 C 81.101562 37.425781 76.625 41.902344 71.101562 41.902344 C 65.578125 41.902344 61.101562 37.425781 61.101562 31.902344 C 61.101562 26.382812 65.578125 21.902344 71.101562 21.902344 C 76.625 21.902344 81.101562 26.382812 81.101562 31.902344 \"/>\n",
       "</g>\n",
       "</svg>\n"
      ],
      "text/plain": [
       "<igraph.drawing.Plot at 0x7fe5bf1ba250>"
      ]
     },
     "execution_count": 28,
     "metadata": {
      "image/svg+xml": {
       "isolated": true
      }
     },
     "output_type": "execute_result"
    }
   ],
   "source": [
    "#Load a graph (in igraph format). Here, we just create one manually.\n",
    "\n",
    "G = ig.Graph([(0,2),(1,2),(2,3),(3,4),(4,5),(5,6),(6,7),(7,8),(8,3),(6,9),(9,10),(10,11),(11,12),(12,9)])\n",
    "\n",
    "layout = G.layout(\"kk\")\n",
    "ig.plot(G, layout = layout, bbox=(200,200))"
   ]
  },
  {
   "cell_type": "markdown",
   "metadata": {},
   "source": [
    "We need to add attributes on vertices and edges to define the filtration.\n",
    "\n",
    "When doing a sublevel filtration, we only consider vertices and edges whose attributes are below a threshold, and we progressively raise this threshold. Typically, we define a \"height\" on vertices, and we extend it to edges by setting the height of an edge to the maximum height of its two vertices. \n",
    "\n",
    "Below, we define a simple filtration for graphs based on the degree of the vertices: we set the height of each vertex $u$ to $\\frac{\\deg(u)}{\\max_{v \\in G} \\deg(v)}$, and we extend it to edges by taking the maximum.\n",
    "\n",
    "These attributes must be added to the graph as vertex and edge attributes, with a specific name (we chose 'f' here, but any other name would work, as long as it is not the name of an other attribute)."
   ]
  },
  {
   "cell_type": "code",
   "execution_count": 10,
   "metadata": {},
   "outputs": [],
   "source": [
    "def calculate_degree_filtration(\n",
    "    graph,\n",
    "    attribute_out='f',\n",
    "):\n",
    "    \"\"\"Calculate a degree-based filtration for a given graph.\n",
    "\n",
    "    Parameters\n",
    "    ----------\n",
    "    graph:\n",
    "        Input graph\n",
    "    attribute_out:\n",
    "        Specifies the attribute name for storing the result of the\n",
    "        calculation. This name will pertain to *both* vertices and\n",
    "        edges.\n",
    "    Returns\n",
    "    -------\n",
    "    Copy of the input graph, with vertex weights and edge weights added\n",
    "    as attributes `attribute_out`, respectively.\n",
    "    \"\"\"\n",
    "    graph = ig.Graph.copy(graph)\n",
    "    \n",
    "    m = graph.maxdegree()\n",
    "    \n",
    "    graph.vs[attribute_out] = [d/m for d in graph.degree()]\n",
    "\n",
    "    edge_weights = []\n",
    "    for edge in graph.es:\n",
    "        u, v = edge.source, edge.target\n",
    "        p = graph.degree(u)/m\n",
    "        q = graph.degree(v)/m\n",
    "        edge_weights.append(max(p,q))\n",
    "    graph.es[attribute_out] = edge_weights\n",
    "\n",
    "    return graph\n",
    "\n",
    "G = calculate_degree_filtration(G,attribute_out=\"f\")"
   ]
  },
  {
   "cell_type": "markdown",
   "metadata": {},
   "source": [
    "Once we have an attribute for the filtration, we can use pyper to compute the persistence diagram. We must specify the same name for 'vertex_attribute' and 'edge_attribute' as what we used above.\n",
    "\n",
    "We get 2 persistence diagrams: one for dimension 0 (connected components) and one for dimension 1 (cycles). We can access the persistence tuples with pd_0._pairs and pd_1._pairs ."
   ]
  },
  {
   "cell_type": "code",
   "execution_count": 27,
   "metadata": {},
   "outputs": [
    {
     "name": "stdout",
     "output_type": "stream",
     "text": [
      "Persistence tuples for connected components:\n",
      "[(0.6666666666666666, 0.6666666666666666), (0.6666666666666666, 0.6666666666666666), (0.6666666666666666, 0.6666666666666666), (0.6666666666666666, 0.6666666666666666), (1.0, 1.0), (0.3333333333333333, 1.0), (1.0, 1.0), (0.6666666666666666, 1.0), (1.0, 1.0), (0.6666666666666666, 1.0), (1.0, 1.0), (0.6666666666666666, 1.0), (0.3333333333333333, 1.0)]\n",
      "Persistence tuples for cycles:\n",
      "[(1.0, 1.0), (1.0, 1.0)]\n"
     ]
    },
    {
     "data": {
      "image/png": "[encoded data removed]",
      "text/plain": [
       "<Figure size 792x360 with 2 Axes>"
      ]
     },
     "metadata": {
      "needs_background": "light"
     },
     "output_type": "display_data"
    }
   ],
   "source": [
    "pd_0, pd_1 = calculate_persistence_diagrams(G,vertex_attribute='f', edge_attribute='f',order=\"sublevel\")\n",
    "print(\"Persistence tuples for connected components:\")\n",
    "print(pd_0._pairs)\n",
    "print(\"Persistence tuples for cycles:\")\n",
    "print(pd_1._pairs)\n",
    "\n",
    "fig,ax = plt.subplots(1,2,figsize=(11,5))\n",
    "ax[0].plot([0,1],[0,1])\n",
    "ax[0].plot(*zip(*pd_0._pairs),\"ro\")\n",
    "ax[0].set_xlabel(\"birth\")\n",
    "ax[0].set_ylabel(\"death\")\n",
    "ax[0].set_title(\"Persistence diagram (dim 0)\")\n",
    "ax[1].plot([0,1],[0,1])\n",
    "ax[1].plot(*zip(*pd_1._pairs),\"ro\")\n",
    "ax[1].set_xlabel(\"birth\")\n",
    "ax[1].set_ylabel(\"death\")\n",
    "ax[1].set_title(\"Persistence diagram (dim 1)\")\n",
    "plt.show()"
   ]
  }
 ],
 "metadata": {
  "kernelspec": {
   "display_name": "Python 3",
   "language": "python",
   "name": "python3"
  },
  "language_info": {
   "codemirror_mode": {
    "name": "ipython",
    "version": 3
   },
   "file_extension": ".py",
   "mimetype": "text/x-python",
   "name": "python",
   "nbconvert_exporter": "python",
   "pygments_lexer": "ipython3",
   "version": "3.8.3"
  }
 },
 "nbformat": 4,
 "nbformat_minor": 4
}
